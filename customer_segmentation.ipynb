{
 "cells": [
  {
   "cell_type": "markdown",
   "metadata": {},
   "source": [
    "#Plan of action\n",
    "1. Import dependencies\n",
    "2. Load in Files\n",
    "3. Clean data\n",
    "4. Explore Data\n",
    "5. Convert gender column to numerical binary column\n",
    "6. Standardize data \n",
    "7. Identify the best number of clusters\n",
    "8. Build KMeans model\n",
    "9. Create a column for cluster designation\n",
    "10. Analyze cluster designation to key metrics (spending score and income)\n",
    "11. Understand and describe customer segments. "
   ]
  },
  {
   "cell_type": "code",
   "execution_count": 1,
   "metadata": {},
   "outputs": [],
   "source": [
    "#import dependencies\n",
    "import pandas as pd\n",
    "import numpy as np\n",
    "import matplotlib.pyplot as plt\n",
    "\n",
    "from sklearn.preprocessing import StandardScaler\n",
    "from sklearn.model_selection import train_test_split\n",
    "from sklearn.cluster import KMeans"
   ]
  },
  {
   "cell_type": "code",
   "execution_count": 2,
   "metadata": {},
   "outputs": [
    {
     "data": {
      "text/html": [
       "<div>\n",
       "<style scoped>\n",
       "    .dataframe tbody tr th:only-of-type {\n",
       "        vertical-align: middle;\n",
       "    }\n",
       "\n",
       "    .dataframe tbody tr th {\n",
       "        vertical-align: top;\n",
       "    }\n",
       "\n",
       "    .dataframe thead th {\n",
       "        text-align: right;\n",
       "    }\n",
       "</style>\n",
       "<table border=\"1\" class=\"dataframe\">\n",
       "  <thead>\n",
       "    <tr style=\"text-align: right;\">\n",
       "      <th></th>\n",
       "      <th>CustomerID</th>\n",
       "      <th>Gender</th>\n",
       "      <th>Age</th>\n",
       "      <th>Annual Income (k$)</th>\n",
       "      <th>Spending Score (1-100)</th>\n",
       "    </tr>\n",
       "  </thead>\n",
       "  <tbody>\n",
       "    <tr>\n",
       "      <th>0</th>\n",
       "      <td>1</td>\n",
       "      <td>Male</td>\n",
       "      <td>19</td>\n",
       "      <td>15</td>\n",
       "      <td>39</td>\n",
       "    </tr>\n",
       "    <tr>\n",
       "      <th>1</th>\n",
       "      <td>2</td>\n",
       "      <td>Male</td>\n",
       "      <td>21</td>\n",
       "      <td>15</td>\n",
       "      <td>81</td>\n",
       "    </tr>\n",
       "    <tr>\n",
       "      <th>2</th>\n",
       "      <td>3</td>\n",
       "      <td>Female</td>\n",
       "      <td>20</td>\n",
       "      <td>16</td>\n",
       "      <td>6</td>\n",
       "    </tr>\n",
       "    <tr>\n",
       "      <th>3</th>\n",
       "      <td>4</td>\n",
       "      <td>Female</td>\n",
       "      <td>23</td>\n",
       "      <td>16</td>\n",
       "      <td>77</td>\n",
       "    </tr>\n",
       "    <tr>\n",
       "      <th>4</th>\n",
       "      <td>5</td>\n",
       "      <td>Female</td>\n",
       "      <td>31</td>\n",
       "      <td>17</td>\n",
       "      <td>40</td>\n",
       "    </tr>\n",
       "  </tbody>\n",
       "</table>\n",
       "</div>"
      ],
      "text/plain": [
       "   CustomerID  Gender  Age  Annual Income (k$)  Spending Score (1-100)\n",
       "0           1    Male   19                  15                      39\n",
       "1           2    Male   21                  15                      81\n",
       "2           3  Female   20                  16                       6\n",
       "3           4  Female   23                  16                      77\n",
       "4           5  Female   31                  17                      40"
      ]
     },
     "execution_count": 2,
     "metadata": {},
     "output_type": "execute_result"
    }
   ],
   "source": [
    "#load data\n",
    "customer_df = pd.read_csv(\"/Users/Jerry/Documents/mall-customer-segmentation/Mall_Customers.csv\")\n",
    "customer_df.head()"
   ]
  },
  {
   "cell_type": "code",
   "execution_count": 3,
   "metadata": {},
   "outputs": [
    {
     "data": {
      "text/html": [
       "<div>\n",
       "<style scoped>\n",
       "    .dataframe tbody tr th:only-of-type {\n",
       "        vertical-align: middle;\n",
       "    }\n",
       "\n",
       "    .dataframe tbody tr th {\n",
       "        vertical-align: top;\n",
       "    }\n",
       "\n",
       "    .dataframe thead th {\n",
       "        text-align: right;\n",
       "    }\n",
       "</style>\n",
       "<table border=\"1\" class=\"dataframe\">\n",
       "  <thead>\n",
       "    <tr style=\"text-align: right;\">\n",
       "      <th></th>\n",
       "      <th>CustomerID</th>\n",
       "      <th>Age</th>\n",
       "      <th>Annual Income (k$)</th>\n",
       "      <th>Spending Score (1-100)</th>\n",
       "    </tr>\n",
       "  </thead>\n",
       "  <tbody>\n",
       "    <tr>\n",
       "      <th>count</th>\n",
       "      <td>200.000000</td>\n",
       "      <td>200.000000</td>\n",
       "      <td>200.000000</td>\n",
       "      <td>200.000000</td>\n",
       "    </tr>\n",
       "    <tr>\n",
       "      <th>mean</th>\n",
       "      <td>100.500000</td>\n",
       "      <td>38.850000</td>\n",
       "      <td>60.560000</td>\n",
       "      <td>50.200000</td>\n",
       "    </tr>\n",
       "    <tr>\n",
       "      <th>std</th>\n",
       "      <td>57.879185</td>\n",
       "      <td>13.969007</td>\n",
       "      <td>26.264721</td>\n",
       "      <td>25.823522</td>\n",
       "    </tr>\n",
       "    <tr>\n",
       "      <th>min</th>\n",
       "      <td>1.000000</td>\n",
       "      <td>18.000000</td>\n",
       "      <td>15.000000</td>\n",
       "      <td>1.000000</td>\n",
       "    </tr>\n",
       "    <tr>\n",
       "      <th>25%</th>\n",
       "      <td>50.750000</td>\n",
       "      <td>28.750000</td>\n",
       "      <td>41.500000</td>\n",
       "      <td>34.750000</td>\n",
       "    </tr>\n",
       "    <tr>\n",
       "      <th>50%</th>\n",
       "      <td>100.500000</td>\n",
       "      <td>36.000000</td>\n",
       "      <td>61.500000</td>\n",
       "      <td>50.000000</td>\n",
       "    </tr>\n",
       "    <tr>\n",
       "      <th>75%</th>\n",
       "      <td>150.250000</td>\n",
       "      <td>49.000000</td>\n",
       "      <td>78.000000</td>\n",
       "      <td>73.000000</td>\n",
       "    </tr>\n",
       "    <tr>\n",
       "      <th>max</th>\n",
       "      <td>200.000000</td>\n",
       "      <td>70.000000</td>\n",
       "      <td>137.000000</td>\n",
       "      <td>99.000000</td>\n",
       "    </tr>\n",
       "  </tbody>\n",
       "</table>\n",
       "</div>"
      ],
      "text/plain": [
       "       CustomerID         Age  Annual Income (k$)  Spending Score (1-100)\n",
       "count  200.000000  200.000000          200.000000              200.000000\n",
       "mean   100.500000   38.850000           60.560000               50.200000\n",
       "std     57.879185   13.969007           26.264721               25.823522\n",
       "min      1.000000   18.000000           15.000000                1.000000\n",
       "25%     50.750000   28.750000           41.500000               34.750000\n",
       "50%    100.500000   36.000000           61.500000               50.000000\n",
       "75%    150.250000   49.000000           78.000000               73.000000\n",
       "max    200.000000   70.000000          137.000000               99.000000"
      ]
     },
     "execution_count": 3,
     "metadata": {},
     "output_type": "execute_result"
    }
   ],
   "source": [
    "#lets conduct our initial data exploration \n",
    "customer_df.describe()"
   ]
  },
  {
   "cell_type": "markdown",
   "metadata": {},
   "source": [
    "The average age among these customers is 39 years old with a range from the age of 18 to 70 years old. The average income is 61k with a standard deviation of 26 thousand. The range of income is a min of 15k and a max of 137k. Finally, the average spending score is 50 out of a range 1 to 100.\n",
    "\n",
    "From this initial exploration, there is no apparent error among the ranges for each column. This data comes from a mall in Iowa with customers ranging from a wide variety of ages, incomes, and spending habits. "
   ]
  },
  {
   "cell_type": "markdown",
   "metadata": {},
   "source": [
    "### Cleaning Data"
   ]
  },
  {
   "cell_type": "markdown",
   "metadata": {},
   "source": [
    "Let's clean the data before we explore the data further. I will check for null values, data types and any duplicate customer IDs. I will also change the name of two columns for simplicity."
   ]
  },
  {
   "cell_type": "code",
   "execution_count": 4,
   "metadata": {},
   "outputs": [
    {
     "name": "stdout",
     "output_type": "stream",
     "text": [
      "<class 'pandas.core.frame.DataFrame'>\n",
      "RangeIndex: 200 entries, 0 to 199\n",
      "Data columns (total 5 columns):\n",
      " #   Column                  Non-Null Count  Dtype \n",
      "---  ------                  --------------  ----- \n",
      " 0   CustomerID              200 non-null    int64 \n",
      " 1   Gender                  200 non-null    object\n",
      " 2   Age                     200 non-null    int64 \n",
      " 3   Annual Income (k$)      200 non-null    int64 \n",
      " 4   Spending Score (1-100)  200 non-null    int64 \n",
      "dtypes: int64(4), object(1)\n",
      "memory usage: 7.9+ KB\n"
     ]
    }
   ],
   "source": [
    "customer_df.info()"
   ]
  },
  {
   "cell_type": "markdown",
   "metadata": {},
   "source": [
    "Thankfully, we have no null values in our dataset and our data types accurately represent the information in the correct form."
   ]
  },
  {
   "cell_type": "code",
   "execution_count": 5,
   "metadata": {},
   "outputs": [],
   "source": [
    "#removing duplicates\n",
    "customer_df = customer_df.drop_duplicates()"
   ]
  },
  {
   "cell_type": "code",
   "execution_count": 6,
   "metadata": {},
   "outputs": [],
   "source": [
    "#Renaming columns\n",
    "customer_df = customer_df.rename(columns={\"Annual Income (k$)\": \"Annual Income\" , \"Spending Score (1-100)\": \"Spending Score\"})"
   ]
  },
  {
   "cell_type": "markdown",
   "metadata": {},
   "source": [
    "### Data Exlporation"
   ]
  },
  {
   "cell_type": "markdown",
   "metadata": {},
   "source": [
    "As discussed before, in this scenario we are working with the owner of a newly purchased mall. The owner has contacted us to help identify different groups among the customer demographic. Two important business metrics collected by the previous owner were estimated annual income and spending score for each customer. \n",
    "\n",
    "With this in mind we will take a look at the correlation between annual income and spending score to identify surface level/ initial groupings."
   ]
  },
  {
   "cell_type": "code",
   "execution_count": 7,
   "metadata": {},
   "outputs": [
    {
     "data": {
      "image/png": "[encoded data removed]",
      "text/plain": [
       "<Figure size 432x288 with 1 Axes>"
      ]
     },
     "metadata": {
      "needs_background": "light"
     },
     "output_type": "display_data"
    }
   ],
   "source": [
    "#Check correlation of spending score to income\n",
    "plt.scatter(x=customer_df[\"Annual Income\"], y=customer_df[\"Spending Score\"])\n",
    "plt.xlabel(\"Annual Income\")\n",
    "plt.ylabel(\"Spening Score\")\n",
    "plt.title(\"Annual Income vs Spending Score\")\n",
    "plt.show()"
   ]
  },
  {
   "cell_type": "markdown",
   "metadata": {},
   "source": [
    "A few things we can take away from this scatter plot. We can distinctly indentify a condesed cluster in the middle of the graph, customers who spend on average the same amount they earn. On the left we have two moderatley condensed groups with low spending, one with low income and one with high income.  \n",
    "\n",
    "At first glance we see 5 groups, but it could be 7 depending on how we consider the farest right points for high and low spenders. These points aren't far enough from the groups to confidently consider them their own groups, yet they aren't close enough to confidently place in them in the relatively closest group. We will need to do further analysis to identify the best number of groups.\n",
    "\n",
    "Identifing the best number of clusters will help us avoid plots that look like a single cluster (too few clusters) or look like two clusters are competing for a single densely packed space (too many clusters). "
   ]
  },
  {
   "cell_type": "code",
   "execution_count": 8,
   "metadata": {},
   "outputs": [
    {
     "data": {
      "text/html": [
       "<div>\n",
       "<style scoped>\n",
       "    .dataframe tbody tr th:only-of-type {\n",
       "        vertical-align: middle;\n",
       "    }\n",
       "\n",
       "    .dataframe tbody tr th {\n",
       "        vertical-align: top;\n",
       "    }\n",
       "\n",
       "    .dataframe thead th {\n",
       "        text-align: right;\n",
       "    }\n",
       "</style>\n",
       "<table border=\"1\" class=\"dataframe\">\n",
       "  <thead>\n",
       "    <tr style=\"text-align: right;\">\n",
       "      <th></th>\n",
       "      <th>CustomerID</th>\n",
       "      <th>Gender</th>\n",
       "      <th>Age</th>\n",
       "      <th>Annual Income</th>\n",
       "      <th>Spending Score</th>\n",
       "      <th>Spending Group</th>\n",
       "    </tr>\n",
       "  </thead>\n",
       "  <tbody>\n",
       "    <tr>\n",
       "      <th>0</th>\n",
       "      <td>1</td>\n",
       "      <td>Male</td>\n",
       "      <td>19</td>\n",
       "      <td>15</td>\n",
       "      <td>39</td>\n",
       "      <td>30-40</td>\n",
       "    </tr>\n",
       "    <tr>\n",
       "      <th>1</th>\n",
       "      <td>2</td>\n",
       "      <td>Male</td>\n",
       "      <td>21</td>\n",
       "      <td>15</td>\n",
       "      <td>81</td>\n",
       "      <td>80-90</td>\n",
       "    </tr>\n",
       "    <tr>\n",
       "      <th>2</th>\n",
       "      <td>3</td>\n",
       "      <td>Female</td>\n",
       "      <td>20</td>\n",
       "      <td>16</td>\n",
       "      <td>6</td>\n",
       "      <td>0-10</td>\n",
       "    </tr>\n",
       "    <tr>\n",
       "      <th>3</th>\n",
       "      <td>4</td>\n",
       "      <td>Female</td>\n",
       "      <td>23</td>\n",
       "      <td>16</td>\n",
       "      <td>77</td>\n",
       "      <td>70-80</td>\n",
       "    </tr>\n",
       "    <tr>\n",
       "      <th>4</th>\n",
       "      <td>5</td>\n",
       "      <td>Female</td>\n",
       "      <td>31</td>\n",
       "      <td>17</td>\n",
       "      <td>40</td>\n",
       "      <td>40-50</td>\n",
       "    </tr>\n",
       "  </tbody>\n",
       "</table>\n",
       "</div>"
      ],
      "text/plain": [
       "   CustomerID  Gender  Age  Annual Income  Spending Score Spending Group\n",
       "0           1    Male   19             15              39          30-40\n",
       "1           2    Male   21             15              81          80-90\n",
       "2           3  Female   20             16               6           0-10\n",
       "3           4  Female   23             16              77          70-80\n",
       "4           5  Female   31             17              40          40-50"
      ]
     },
     "execution_count": 8,
     "metadata": {},
     "output_type": "execute_result"
    }
   ],
   "source": [
    "#add a new column to put customers into a group based on spending\n",
    "group_list = []\n",
    "score = 0\n",
    "\n",
    "for i in range(1,201):\n",
    "    customer = customer_df.loc[(customer_df[\"CustomerID\"] == i), :]\n",
    "    score = customer[\"Spending Score\"].values\n",
    "    \n",
    "    if score < 10:\n",
    "        group_list.append(\"0-10\")\n",
    "    elif score < 20:\n",
    "        group_list.append(\"10-20\")\n",
    "    elif score < 30:\n",
    "        group_list.append(\"20-30\")\n",
    "    elif score < 40:\n",
    "        group_list.append(\"30-40\")\n",
    "    elif score < 50:\n",
    "        group_list.append(\"40-50\")\n",
    "    elif score < 60:\n",
    "        group_list.append(\"50-60\")\n",
    "    elif score < 70:\n",
    "        group_list.append(\"60-70\")\n",
    "    elif score < 80:\n",
    "        group_list.append(\"70-80\")\n",
    "    elif score < 90:\n",
    "        group_list.append(\"80-90\")\n",
    "    else:\n",
    "        group_list.append(\"90-100\")\n",
    "\n",
    "customer_df[\"Spending Group\"] = group_list\n",
    "\n",
    "customer_df.head()"
   ]
  },
  {
   "cell_type": "code",
   "execution_count": 9,
   "metadata": {},
   "outputs": [
    {
     "data": {
      "image/png": "[encoded data removed]",
      "text/plain": [
       "<Figure size 432x288 with 1 Axes>"
      ]
     },
     "metadata": {
      "needs_background": "light"
     },
     "output_type": "display_data"
    }
   ],
   "source": [
    "#The distribution of customers in spending group\n",
    "count_list = customer_df.groupby([\"Spending Group\"])[\"CustomerID\"].count()\n",
    "label_list = count_list.index.tolist()\n",
    "plt.bar(x=label_list, height=count_list)\n",
    "plt.xticks(rotation= 90)\n",
    "plt.xlabel(\"Spending Range\")\n",
    "plt.ylabel(\"Number of Customers\")\n",
    "plt.title(\"Distribution of Customers Based On Spending Group\")\n",
    "plt.show()\n"
   ]
  },
  {
   "cell_type": "markdown",
   "metadata": {},
   "source": [
    "From this initial visualization we can conclude the majority of customers have a spending score ranging from 40 to 60. Other then this insight, there is no clear distinction of customer groupings here. We will need to do further analysis to find customer segments. "
   ]
  },
  {
   "cell_type": "code",
   "execution_count": 10,
   "metadata": {},
   "outputs": [
    {
     "data": {
      "text/html": [
       "<div>\n",
       "<style scoped>\n",
       "    .dataframe tbody tr th:only-of-type {\n",
       "        vertical-align: middle;\n",
       "    }\n",
       "\n",
       "    .dataframe tbody tr th {\n",
       "        vertical-align: top;\n",
       "    }\n",
       "\n",
       "    .dataframe thead th {\n",
       "        text-align: right;\n",
       "    }\n",
       "</style>\n",
       "<table border=\"1\" class=\"dataframe\">\n",
       "  <thead>\n",
       "    <tr style=\"text-align: right;\">\n",
       "      <th></th>\n",
       "      <th>CustomerID</th>\n",
       "      <th>Age</th>\n",
       "      <th>Annual Income</th>\n",
       "      <th>Spending Score</th>\n",
       "    </tr>\n",
       "    <tr>\n",
       "      <th>Spending Group</th>\n",
       "      <th></th>\n",
       "      <th></th>\n",
       "      <th></th>\n",
       "      <th></th>\n",
       "    </tr>\n",
       "  </thead>\n",
       "  <tbody>\n",
       "    <tr>\n",
       "      <th>0-10</th>\n",
       "      <td>94.428571</td>\n",
       "      <td>40.642857</td>\n",
       "      <td>55.928571</td>\n",
       "      <td>4.928571</td>\n",
       "    </tr>\n",
       "    <tr>\n",
       "      <th>10-20</th>\n",
       "      <td>124.800000</td>\n",
       "      <td>45.550000</td>\n",
       "      <td>71.650000</td>\n",
       "      <td>14.200000</td>\n",
       "    </tr>\n",
       "    <tr>\n",
       "      <th>20-30</th>\n",
       "      <td>133.833333</td>\n",
       "      <td>41.583333</td>\n",
       "      <td>76.083333</td>\n",
       "      <td>25.166667</td>\n",
       "    </tr>\n",
       "    <tr>\n",
       "      <th>30-40</th>\n",
       "      <td>85.615385</td>\n",
       "      <td>41.307692</td>\n",
       "      <td>53.000000</td>\n",
       "      <td>34.923077</td>\n",
       "    </tr>\n",
       "    <tr>\n",
       "      <th>40-50</th>\n",
       "      <td>86.897436</td>\n",
       "      <td>43.384615</td>\n",
       "      <td>55.230769</td>\n",
       "      <td>44.333333</td>\n",
       "    </tr>\n",
       "    <tr>\n",
       "      <th>50-60</th>\n",
       "      <td>84.027027</td>\n",
       "      <td>42.540541</td>\n",
       "      <td>54.513514</td>\n",
       "      <td>54.378378</td>\n",
       "    </tr>\n",
       "    <tr>\n",
       "      <th>60-70</th>\n",
       "      <td>96.272727</td>\n",
       "      <td>32.272727</td>\n",
       "      <td>59.000000</td>\n",
       "      <td>63.818182</td>\n",
       "    </tr>\n",
       "    <tr>\n",
       "      <th>70-80</th>\n",
       "      <td>98.250000</td>\n",
       "      <td>29.791667</td>\n",
       "      <td>58.416667</td>\n",
       "      <td>74.791667</td>\n",
       "    </tr>\n",
       "    <tr>\n",
       "      <th>80-90</th>\n",
       "      <td>126.857143</td>\n",
       "      <td>29.071429</td>\n",
       "      <td>72.285714</td>\n",
       "      <td>85.285714</td>\n",
       "    </tr>\n",
       "    <tr>\n",
       "      <th>90-100</th>\n",
       "      <td>117.000000</td>\n",
       "      <td>31.937500</td>\n",
       "      <td>66.250000</td>\n",
       "      <td>93.687500</td>\n",
       "    </tr>\n",
       "  </tbody>\n",
       "</table>\n",
       "</div>"
      ],
      "text/plain": [
       "                CustomerID        Age  Annual Income  Spending Score\n",
       "Spending Group                                                      \n",
       "0-10             94.428571  40.642857      55.928571        4.928571\n",
       "10-20           124.800000  45.550000      71.650000       14.200000\n",
       "20-30           133.833333  41.583333      76.083333       25.166667\n",
       "30-40            85.615385  41.307692      53.000000       34.923077\n",
       "40-50            86.897436  43.384615      55.230769       44.333333\n",
       "50-60            84.027027  42.540541      54.513514       54.378378\n",
       "60-70            96.272727  32.272727      59.000000       63.818182\n",
       "70-80            98.250000  29.791667      58.416667       74.791667\n",
       "80-90           126.857143  29.071429      72.285714       85.285714\n",
       "90-100          117.000000  31.937500      66.250000       93.687500"
      ]
     },
     "execution_count": 10,
     "metadata": {},
     "output_type": "execute_result"
    }
   ],
   "source": [
    "#now lets visualize the distribution of spenders based on age\n",
    "#customer_df.groupby([\"Spending Group\"])[\"Age\"].describe()\n",
    "grouped = customer_df.groupby([\"Spending Group\"]).mean()\n",
    "grouped"
   ]
  },
  {
   "cell_type": "code",
   "execution_count": 11,
   "metadata": {},
   "outputs": [
    {
     "data": {
      "image/png": "[encoded data removed]",
      "text/plain": [
       "<Figure size 432x288 with 1 Axes>"
      ]
     },
     "metadata": {
      "needs_background": "light"
     },
     "output_type": "display_data"
    }
   ],
   "source": [
    "#Average Age Among Spening Groups\n",
    "X = grouped.index.tolist()\n",
    "Y = grouped[\"Age\"].values\n",
    "\n",
    "#plt.bar(x=X, height=Y)\n",
    "plt.scatter(x=X, y=Y)\n",
    "plt.xticks(rotation = 90)\n",
    "plt.xlabel(\"Spending Range\")\n",
    "plt.ylabel(\"Age\")\n",
    "plt.title(\"Average Age Among Spending Groups\")\n",
    "plt.show()"
   ]
  },
  {
   "cell_type": "markdown",
   "metadata": {},
   "source": [
    "We can see that on average younger customers are spending more at the mall. Intuitively, while we are young we tend to spend more and as we grow older we tend to be more methodical with our money."
   ]
  },
  {
   "cell_type": "markdown",
   "metadata": {},
   "source": [
    "5. Convert gender column to numerical binary column\n",
    "6. Standardize data \n",
    "7. Identify the best number of clusters\n",
    "8. Build KMeans model\n",
    "9. Creating a column for cluster designation\n",
    "10. Analyze cluster designation to key metrics (spending score and income)\n",
    "11. Understand and describe customer segments. "
   ]
  },
  {
   "cell_type": "code",
   "execution_count": 12,
   "metadata": {},
   "outputs": [],
   "source": [
    "#convert gender column to binary column\n",
    "customer_df[\"Gender\"] = customer_df[\"Gender\"].replace(to_replace={\"Male\": 0, \"Female\":1})"
   ]
  },
  {
   "cell_type": "markdown",
   "metadata": {},
   "source": [
    "We will standardize data to ensure all variables hava a similar influence on cluster formation. We will assume the owner wants us to standardize all data since no instructions were given to leave a key metric out of standardization. This happens at times when a client wants a key metric to hold more influence on cluster formation. "
   ]
  },
  {
   "cell_type": "code",
   "execution_count": 41,
   "metadata": {},
   "outputs": [],
   "source": [
    "#standardize data\n",
    "scaler = StandardScaler()\n",
    "\n",
    "#use one of the two pairs of code\n",
    "#filtered_data = customer_df[['Age', 'Annual Income', 'Spending Score', 'Gender']]\n",
    "#scaled_data = scaler.fit_transform(filtered_data)\n",
    "\n",
    "key_metrics = customer_df[['Annual Income', 'Spending Score']]\n",
    "scaled_data = scaler.fit_transform(key_metrics)"
   ]
  },
  {
   "cell_type": "code",
   "execution_count": 42,
   "metadata": {},
   "outputs": [
    {
     "data": {
      "text/html": [
       "<div>\n",
       "<style scoped>\n",
       "    .dataframe tbody tr th:only-of-type {\n",
       "        vertical-align: middle;\n",
       "    }\n",
       "\n",
       "    .dataframe tbody tr th {\n",
       "        vertical-align: top;\n",
       "    }\n",
       "\n",
       "    .dataframe thead tr th {\n",
       "        text-align: left;\n",
       "    }\n",
       "</style>\n",
       "<table border=\"1\" class=\"dataframe\">\n",
       "  <thead>\n",
       "    <tr>\n",
       "      <th></th>\n",
       "      <th>Annual Income</th>\n",
       "      <th>Spending Score</th>\n",
       "    </tr>\n",
       "  </thead>\n",
       "  <tbody>\n",
       "    <tr>\n",
       "      <th>0</th>\n",
       "      <td>-1.738999</td>\n",
       "      <td>-0.434801</td>\n",
       "    </tr>\n",
       "    <tr>\n",
       "      <th>1</th>\n",
       "      <td>-1.738999</td>\n",
       "      <td>1.195704</td>\n",
       "    </tr>\n",
       "    <tr>\n",
       "      <th>2</th>\n",
       "      <td>-1.700830</td>\n",
       "      <td>-1.715913</td>\n",
       "    </tr>\n",
       "    <tr>\n",
       "      <th>3</th>\n",
       "      <td>-1.700830</td>\n",
       "      <td>1.040418</td>\n",
       "    </tr>\n",
       "    <tr>\n",
       "      <th>4</th>\n",
       "      <td>-1.662660</td>\n",
       "      <td>-0.395980</td>\n",
       "    </tr>\n",
       "  </tbody>\n",
       "</table>\n",
       "</div>"
      ],
      "text/plain": [
       "  Annual Income Spending Score\n",
       "0     -1.738999      -0.434801\n",
       "1     -1.738999       1.195704\n",
       "2     -1.700830      -1.715913\n",
       "3     -1.700830       1.040418\n",
       "4     -1.662660      -0.395980"
      ]
     },
     "execution_count": 42,
     "metadata": {},
     "output_type": "execute_result"
    }
   ],
   "source": [
    "#scaled_df = pd.DataFrame(data=scaled_data, columns=[['Age', 'Annual Income', 'Spending Score', 'Gender']])\n",
    "scaled_df = pd.DataFrame(data=scaled_data, columns=[['Annual Income', 'Spending Score']])\n",
    "scaled_df.head()"
   ]
  },
  {
   "cell_type": "markdown",
   "metadata": {},
   "source": [
    "Since we are trying to cluster customers based on data collected we will use the KMeans model. This model is relatively simple, scales to larger data if needed, and generalizes to clusters of different shapes and sizes.\n",
    "\n",
    "Before we can build a KMeans model, we will need to identify the best number for K using the elbow curve method. We won't be visually identifing K because it is to subjective and we won't use the silhouett score because it removes subjectivity from the judgment and is not a very intuitive metric. "
   ]
  },
  {
   "cell_type": "markdown",
   "metadata": {},
   "source": [
    "### Elbow Curve Technique"
   ]
  },
  {
   "cell_type": "markdown",
   "metadata": {},
   "source": [
    "Insert explanation of elbow curve and what metric it uses. SSE also know as Inertia."
   ]
  },
  {
   "cell_type": "code",
   "execution_count": 43,
   "metadata": {},
   "outputs": [
    {
     "data": {
      "text/html": [
       "<div>\n",
       "<style scoped>\n",
       "    .dataframe tbody tr th:only-of-type {\n",
       "        vertical-align: middle;\n",
       "    }\n",
       "\n",
       "    .dataframe tbody tr th {\n",
       "        vertical-align: top;\n",
       "    }\n",
       "\n",
       "    .dataframe thead th {\n",
       "        text-align: right;\n",
       "    }\n",
       "</style>\n",
       "<table border=\"1\" class=\"dataframe\">\n",
       "  <thead>\n",
       "    <tr style=\"text-align: right;\">\n",
       "      <th></th>\n",
       "      <th>k</th>\n",
       "      <th>inertia</th>\n",
       "    </tr>\n",
       "  </thead>\n",
       "  <tbody>\n",
       "    <tr>\n",
       "      <th>0</th>\n",
       "      <td>1</td>\n",
       "      <td>400.000000</td>\n",
       "    </tr>\n",
       "    <tr>\n",
       "      <th>1</th>\n",
       "      <td>2</td>\n",
       "      <td>270.704267</td>\n",
       "    </tr>\n",
       "    <tr>\n",
       "      <th>2</th>\n",
       "      <td>3</td>\n",
       "      <td>157.704008</td>\n",
       "    </tr>\n",
       "    <tr>\n",
       "      <th>3</th>\n",
       "      <td>4</td>\n",
       "      <td>108.921317</td>\n",
       "    </tr>\n",
       "    <tr>\n",
       "      <th>4</th>\n",
       "      <td>5</td>\n",
       "      <td>65.568408</td>\n",
       "    </tr>\n",
       "    <tr>\n",
       "      <th>5</th>\n",
       "      <td>6</td>\n",
       "      <td>55.057348</td>\n",
       "    </tr>\n",
       "    <tr>\n",
       "      <th>6</th>\n",
       "      <td>7</td>\n",
       "      <td>44.911186</td>\n",
       "    </tr>\n",
       "  </tbody>\n",
       "</table>\n",
       "</div>"
      ],
      "text/plain": [
       "   k     inertia\n",
       "0  1  400.000000\n",
       "1  2  270.704267\n",
       "2  3  157.704008\n",
       "3  4  108.921317\n",
       "4  5   65.568408\n",
       "5  6   55.057348\n",
       "6  7   44.911186"
      ]
     },
     "execution_count": 43,
     "metadata": {},
     "output_type": "execute_result"
    }
   ],
   "source": [
    "#Created a list called inertia to hold the inertia/SSE value for each iteration of the KMeans model.\n",
    "inertia = []\n",
    "\n",
    "#loop through each k to find the inertia for each iteration of the KMeans model\n",
    "for k in range(1, 8):\n",
    "    model = KMeans(n_clusters=k, random_state=42)\n",
    "    model.fit(scaled_data)\n",
    "    inertia.append(model.inertia_)\n",
    "\n",
    "#create dateframe to house inertia and k values\n",
    "df = pd.DataFrame({\"k\": range(1,8), \"inertia\": inertia})\n",
    "df"
   ]
  },
  {
   "cell_type": "code",
   "execution_count": 44,
   "metadata": {},
   "outputs": [
    {
     "data": {
      "image/png": "[encoded data removed]",
      "text/plain": [
       "<Figure size 432x288 with 1 Axes>"
      ]
     },
     "metadata": {
      "needs_background": "light"
     },
     "output_type": "display_data"
    }
   ],
   "source": [
    "#Elbow Curve, we will plot the inertia value with the corresponding number of k.\n",
    "k = range(1,8)\n",
    "plt.plot(k, inertia)\n",
    "plt.xlabel(\"Number of K clusters\")\n",
    "plt.ylabel(\"Inertia\")\n",
    "plt.title(\"Elbow Curve\")\n",
    "plt.show()"
   ]
  },
  {
   "cell_type": "markdown",
   "metadata": {},
   "source": [
    "Now that we have identified the optimial number of clusters, we will create a function that builds a KMeans model using our input of k and data. The function will return the data with a new column containing the clusters found."
   ]
  },
  {
   "cell_type": "code",
   "execution_count": 45,
   "metadata": {},
   "outputs": [],
   "source": [
    "def get_clusters(k, data):\n",
    "    #build and train the model\n",
    "    km = KMeans(n_clusters=k, random_state=0)\n",
    "    km.fit(data)\n",
    "    #predict the cluster\n",
    "    predictions = km.predict(data)\n",
    "    #create a column in the dataframe with the clusters found\n",
    "    data[\"class\"] = km.labels_\n",
    "\n",
    "    return data"
   ]
  },
  {
   "cell_type": "code",
   "execution_count": 46,
   "metadata": {},
   "outputs": [
    {
     "data": {
      "text/html": [
       "<div>\n",
       "<style scoped>\n",
       "    .dataframe tbody tr th:only-of-type {\n",
       "        vertical-align: middle;\n",
       "    }\n",
       "\n",
       "    .dataframe tbody tr th {\n",
       "        vertical-align: top;\n",
       "    }\n",
       "\n",
       "    .dataframe thead tr th {\n",
       "        text-align: left;\n",
       "    }\n",
       "</style>\n",
       "<table border=\"1\" class=\"dataframe\">\n",
       "  <thead>\n",
       "    <tr>\n",
       "      <th></th>\n",
       "      <th>Annual Income</th>\n",
       "      <th>Spending Score</th>\n",
       "      <th>class</th>\n",
       "    </tr>\n",
       "  </thead>\n",
       "  <tbody>\n",
       "    <tr>\n",
       "      <th>0</th>\n",
       "      <td>-1.738999</td>\n",
       "      <td>-0.434801</td>\n",
       "      <td>4</td>\n",
       "    </tr>\n",
       "    <tr>\n",
       "      <th>1</th>\n",
       "      <td>-1.738999</td>\n",
       "      <td>1.195704</td>\n",
       "      <td>3</td>\n",
       "    </tr>\n",
       "    <tr>\n",
       "      <th>2</th>\n",
       "      <td>-1.700830</td>\n",
       "      <td>-1.715913</td>\n",
       "      <td>4</td>\n",
       "    </tr>\n",
       "    <tr>\n",
       "      <th>3</th>\n",
       "      <td>-1.700830</td>\n",
       "      <td>1.040418</td>\n",
       "      <td>3</td>\n",
       "    </tr>\n",
       "    <tr>\n",
       "      <th>4</th>\n",
       "      <td>-1.662660</td>\n",
       "      <td>-0.395980</td>\n",
       "      <td>4</td>\n",
       "    </tr>\n",
       "  </tbody>\n",
       "</table>\n",
       "</div>"
      ],
      "text/plain": [
       "  Annual Income Spending Score class\n",
       "0     -1.738999      -0.434801     4\n",
       "1     -1.738999       1.195704     3\n",
       "2     -1.700830      -1.715913     4\n",
       "3     -1.700830       1.040418     3\n",
       "4     -1.662660      -0.395980     4"
      ]
     },
     "execution_count": 46,
     "metadata": {},
     "output_type": "execute_result"
    }
   ],
   "source": [
    "new_df = get_clusters(5, scaled_df)\n",
    "new_df.head()"
   ]
  },
  {
   "cell_type": "code",
   "execution_count": 47,
   "metadata": {},
   "outputs": [],
   "source": [
    "#We will create a function that plots the clusters. \n",
    "def plot_clusters(df):\n",
    "    plt.scatter(df[\"Spending Score\"], df[\"Annual Income\"], c=df[\"class\"])\n",
    "    plt.title(\"Customer Segments\")\n",
    "    plt.xlabel(\"Spending Score\")\n",
    "    plt.ylabel(\"Annual Income\")\n",
    "    plt.show()"
   ]
  },
  {
   "cell_type": "code",
   "execution_count": 48,
   "metadata": {},
   "outputs": [
    {
     "data": {
      "image/png": "[encoded data removed]",
      "text/plain": [
       "<Figure size 432x288 with 1 Axes>"
      ]
     },
     "metadata": {
      "needs_background": "light"
     },
     "output_type": "display_data"
    }
   ],
   "source": [
    "plot_clusters(new_df)"
   ]
  },
  {
   "cell_type": "markdown",
   "metadata": {},
   "source": [
    "The graph above shows 5 segments which we calculated above as the optimal number of clusters. The color of a data point was determined by the cluster assigned to them through the KMeans algorithm. The clusters are almost completely distinct from one another. However the central cluster and the upper left cluster have a few points close to each other. "
   ]
  },
  {
   "cell_type": "markdown",
   "metadata": {},
   "source": [
    "### Exploring the new clusters"
   ]
  },
  {
   "cell_type": "code",
   "execution_count": 49,
   "metadata": {},
   "outputs": [],
   "source": [
    "#we will include the class column to the original clean dataframe\n",
    "customer_df[\"class\"] = new_df[\"class\"]"
   ]
  },
  {
   "cell_type": "code",
   "execution_count": 52,
   "metadata": {},
   "outputs": [],
   "source": [
    "#we will group the customers by there cluster grouping and anlyze the mean of income and spend score\n",
    "grouped_df = customer_df.groupby([\"class\"]).mean()"
   ]
  },
  {
   "cell_type": "code",
   "execution_count": 54,
   "metadata": {},
   "outputs": [
    {
     "data": {
      "text/html": [
       "<div>\n",
       "<style scoped>\n",
       "    .dataframe tbody tr th:only-of-type {\n",
       "        vertical-align: middle;\n",
       "    }\n",
       "\n",
       "    .dataframe tbody tr th {\n",
       "        vertical-align: top;\n",
       "    }\n",
       "\n",
       "    .dataframe thead th {\n",
       "        text-align: right;\n",
       "    }\n",
       "</style>\n",
       "<table border=\"1\" class=\"dataframe\">\n",
       "  <thead>\n",
       "    <tr style=\"text-align: right;\">\n",
       "      <th></th>\n",
       "      <th>CustomerID</th>\n",
       "      <th>Gender</th>\n",
       "      <th>Age</th>\n",
       "      <th>Annual Income</th>\n",
       "      <th>Spending Score</th>\n",
       "    </tr>\n",
       "    <tr>\n",
       "      <th>class</th>\n",
       "      <th></th>\n",
       "      <th></th>\n",
       "      <th></th>\n",
       "      <th></th>\n",
       "      <th></th>\n",
       "    </tr>\n",
       "  </thead>\n",
       "  <tbody>\n",
       "    <tr>\n",
       "      <th>0</th>\n",
       "      <td>164.371429</td>\n",
       "      <td>0.457143</td>\n",
       "      <td>41.114286</td>\n",
       "      <td>88.200000</td>\n",
       "      <td>17.114286</td>\n",
       "    </tr>\n",
       "    <tr>\n",
       "      <th>1</th>\n",
       "      <td>86.320988</td>\n",
       "      <td>0.592593</td>\n",
       "      <td>42.716049</td>\n",
       "      <td>55.296296</td>\n",
       "      <td>49.518519</td>\n",
       "    </tr>\n",
       "    <tr>\n",
       "      <th>2</th>\n",
       "      <td>162.000000</td>\n",
       "      <td>0.538462</td>\n",
       "      <td>32.692308</td>\n",
       "      <td>86.538462</td>\n",
       "      <td>82.128205</td>\n",
       "    </tr>\n",
       "    <tr>\n",
       "      <th>3</th>\n",
       "      <td>23.090909</td>\n",
       "      <td>0.590909</td>\n",
       "      <td>25.272727</td>\n",
       "      <td>25.727273</td>\n",
       "      <td>79.363636</td>\n",
       "    </tr>\n",
       "    <tr>\n",
       "      <th>4</th>\n",
       "      <td>23.000000</td>\n",
       "      <td>0.608696</td>\n",
       "      <td>45.217391</td>\n",
       "      <td>26.304348</td>\n",
       "      <td>20.913043</td>\n",
       "    </tr>\n",
       "  </tbody>\n",
       "</table>\n",
       "</div>"
      ],
      "text/plain": [
       "       CustomerID    Gender        Age  Annual Income  Spending Score\n",
       "class                                                                \n",
       "0      164.371429  0.457143  41.114286      88.200000       17.114286\n",
       "1       86.320988  0.592593  42.716049      55.296296       49.518519\n",
       "2      162.000000  0.538462  32.692308      86.538462       82.128205\n",
       "3       23.090909  0.590909  25.272727      25.727273       79.363636\n",
       "4       23.000000  0.608696  45.217391      26.304348       20.913043"
      ]
     },
     "execution_count": 54,
     "metadata": {},
     "output_type": "execute_result"
    }
   ],
   "source": [
    "grouped_df.head()"
   ]
  },
  {
   "cell_type": "code",
   "execution_count": 74,
   "metadata": {},
   "outputs": [
    {
     "data": {
      "text/plain": [
       "[88.2, 55.3, 86.54, 25.73, 26.3]"
      ]
     },
     "execution_count": 74,
     "metadata": {},
     "output_type": "execute_result"
    }
   ],
   "source": [
    "income_means = round(grouped_df[\"Annual Income\"], 2).to_list()\n",
    "income_means"
   ]
  },
  {
   "cell_type": "code",
   "execution_count": 75,
   "metadata": {},
   "outputs": [
    {
     "data": {
      "image/png": "[encoded data removed]",
      "text/plain": [
       "<Figure size 432x288 with 1 Axes>"
      ]
     },
     "metadata": {
      "needs_background": "light"
     },
     "output_type": "display_data"
    }
   ],
   "source": [
    "labels = grouped_df.index.to_list()\n",
    "income_means = round(grouped_df[\"Annual Income\"], 2).to_list()\n",
    "spending_means = round(grouped_df[\"Spending Score\"], 2).to_list()\n",
    "\n",
    "#label locations\n",
    "x = np.arange(len(labels))\n",
    "#the width of the bars\n",
    "width = .35\n",
    "\n",
    "fig, ax = plt.subplots()\n",
    "rects1 = ax.bar(x - width/2, income_means, width, label='Income')\n",
    "rects2 = ax.bar(x + width/2, spending_means, width, label='Spending')\n",
    "\n",
    "# Add some text for labels, title and custom x-axis tick labels, etc.\n",
    "ax.set_ylabel('Values')\n",
    "ax.set_xlabel('Customer Segments')\n",
    "ax.set_title('Mall Customers')\n",
    "ax.set_xticks(x, labels)\n",
    "ax.legend()\n",
    "\n",
    "ax.bar_label(rects1, padding=3)\n",
    "ax.bar_label(rects2, padding=3)\n",
    "\n",
    "fig.tight_layout()\n",
    "\n",
    "plt.show()"
   ]
  },
  {
   "cell_type": "markdown",
   "metadata": {},
   "source": [
    "Mall Customer Segments:\n",
    "\n",
    "0. Penny Pinchers\n",
    "1. Average Joes\n",
    "2. High Rollers\n",
    "3. Over Spenders\n",
    "4. Old Average Joes"
   ]
  },
  {
   "cell_type": "markdown",
   "metadata": {},
   "source": [
    "Our Penny Pinchers, are people who make a lot, but spend a friction of their income. They tend to be older in established careers with their age averaging around their fourties.\n",
    "\n",
    "Our average joes are around their fourties. They earn the average income and spend a little less then what they make. They live within their means, but also will indulge in their interests occasionally. \n",
    "\n",
    "Our high rollers make a lot, but spend almost as much as they make. Their age is around early thirites. They love to indulge in their interests. \n",
    "\n",
    "Our over spenders are typically in their twenties. They don't make much, but spend a lot. They don't live within their means, but aspire to one day make enough to afford their lifestyle. \n",
    "\n",
    "Lastly our old average joes, these customers are a lot older and make less then the average person. Nevertheless they still live within their means by spending less then they make. "
   ]
  },
  {
   "cell_type": "markdown",
   "metadata": {},
   "source": [
    "### Conclusion\n",
    "We helped the mall gain a better understanding of its customers to enable better targeting and boost sales by identifying the optimial number of groups and by segmenting customers based on income and spending score. We hope these segments make all the difference and help maximize the ROI of the maketing campaign budget. "
   ]
  }
 ],
 "metadata": {
  "kernelspec": {
   "display_name": "Python 3.9.7 ('base')",
   "language": "python",
   "name": "python3"
  },
  "language_info": {
   "codemirror_mode": {
    "name": "ipython",
    "version": 3
   },
   "file_extension": ".py",
   "mimetype": "text/x-python",
   "name": "python",
   "nbconvert_exporter": "python",
   "pygments_lexer": "ipython3",
   "version": "3.9.7"
  },
  "orig_nbformat": 4,
  "vscode": {
   "interpreter": {
    "hash": "20cd98c28d8a7d9436c71f6a69b27a52ac9cc752c9aeb4b7097ad5f9ce130e0f"
   }
  }
 },
 "nbformat": 4,
 "nbformat_minor": 2
}
